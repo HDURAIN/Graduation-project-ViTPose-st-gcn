{
 "cells": [
  {
   "cell_type": "code",
   "execution_count": 11,
   "id": "96d22960-bf6a-457c-89da-c8bac7ed8a57",
   "metadata": {},
   "outputs": [],
   "source": [
    "#!/usr/bin/env python\n",
    "import os\n",
    "import sys\n",
    "import argparse\n",
    "import json\n",
    "import shutil\n",
    "import time\n",
    "\n",
    "import numpy as np\n",
    "import torch\n",
    "\n",
    "import tools\n",
    "import tools.utils as utils\n",
    "\n",
    "import cv2"
   ]
  },
  {
   "cell_type": "code",
   "execution_count": 13,
   "id": "701f2e9e-dae2-48fc-af31-24ef2a86af4a",
   "metadata": {},
   "outputs": [
    {
     "name": "stdout",
     "output_type": "stream",
     "text": [
      "['abseiling\\n', 'air drumming\\n', 'answering questions\\n', 'applauding\\n', 'applying cream\\n', 'archery\\n', 'arm wrestling\\n', 'arranging flowers\\n', 'assembling computer\\n', 'auctioning\\n', 'baby waking up\\n', 'baking cookies\\n', 'balloon blowing\\n', 'bandaging\\n', 'barbequing\\n', 'bartending\\n', 'beatboxing\\n', 'bee keeping\\n', 'belly dancing\\n', 'bench pressing\\n', 'bending back\\n', 'bending metal\\n', 'biking through snow\\n', 'blasting sand\\n', 'blowing glass\\n', 'blowing leaves\\n', 'blowing nose\\n', 'blowing out candles\\n', 'bobsledding\\n', 'bookbinding\\n', 'bouncing on trampoline\\n', 'bowling\\n', 'braiding hair\\n', 'breading or breadcrumbing\\n', 'breakdancing\\n', 'brush painting\\n', 'brushing hair\\n', 'brushing teeth\\n', 'building cabinet\\n', 'building shed\\n', 'bungee jumping\\n', 'busking\\n', 'canoeing or kayaking\\n', 'capoeira\\n', 'carrying baby\\n', 'cartwheeling\\n', 'carving pumpkin\\n', 'catching fish\\n', 'catching or throwing baseball\\n', 'catching or throwing frisbee\\n', 'catching or throwing softball\\n', 'celebrating\\n', 'changing oil\\n', 'changing wheel\\n', 'checking tires\\n', 'cheerleading\\n', 'chopping wood\\n', 'clapping\\n', 'clay pottery making\\n', 'clean and jerk\\n', 'cleaning floor\\n', 'cleaning gutters\\n', 'cleaning pool\\n', 'cleaning shoes\\n', 'cleaning toilet\\n', 'cleaning windows\\n', 'climbing a rope\\n', 'climbing ladder\\n', 'climbing tree\\n', 'contact juggling\\n', 'cooking chicken\\n', 'cooking egg\\n', 'cooking on campfire\\n', 'cooking sausages\\n', 'counting money\\n', 'country line dancing\\n', 'cracking neck\\n', 'crawling baby\\n', 'crossing river\\n', 'crying\\n', 'curling hair\\n', 'cutting nails\\n', 'cutting pineapple\\n', 'cutting watermelon\\n', 'dancing ballet\\n', 'dancing charleston\\n', 'dancing gangnam style\\n', 'dancing macarena\\n', 'deadlifting\\n', 'decorating the christmas tree\\n', 'digging\\n', 'dining\\n', 'disc golfing\\n', 'diving cliff\\n', 'dodgeball\\n', 'doing aerobics\\n', 'doing laundry\\n', 'doing nails\\n', 'drawing\\n', 'dribbling basketball\\n', 'drinking\\n', 'drinking beer\\n', 'drinking shots\\n', 'driving car\\n', 'driving tractor\\n', 'drop kicking\\n', 'drumming fingers\\n', 'dunking basketball\\n', 'dying hair\\n', 'eating burger\\n', 'eating cake\\n', 'eating carrots\\n', 'eating chips\\n', 'eating doughnuts\\n', 'eating hotdog\\n', 'eating ice cream\\n', 'eating spaghetti\\n', 'eating watermelon\\n', 'egg hunting\\n', 'exercising arm\\n', 'exercising with an exercise ball\\n', 'extinguishing fire\\n', 'faceplanting\\n', 'feeding birds\\n', 'feeding fish\\n', 'feeding goats\\n', 'filling eyebrows\\n', 'finger snapping\\n', 'fixing hair\\n', 'flipping pancake\\n', 'flying kite\\n', 'folding clothes\\n', 'folding napkins\\n', 'folding paper\\n', 'front raises\\n', 'frying vegetables\\n', 'garbage collecting\\n', 'gargling\\n', 'getting a haircut\\n', 'getting a tattoo\\n', 'giving or receiving award\\n', 'golf chipping\\n', 'golf driving\\n', 'golf putting\\n', 'grinding meat\\n', 'grooming dog\\n', 'grooming horse\\n', 'gymnastics tumbling\\n', 'hammer throw\\n', 'headbanging\\n', 'headbutting\\n', 'high jump\\n', 'high kick\\n', 'hitting baseball\\n', 'hockey stop\\n', 'holding snake\\n', 'hopscotch\\n', 'hoverboarding\\n', 'hugging\\n', 'hula hooping\\n', 'hurdling\\n', 'hurling (sport)\\n', 'ice climbing\\n', 'ice fishing\\n', 'ice skating\\n', 'ironing\\n', 'javelin throw\\n', 'jetskiing\\n', 'jogging\\n', 'juggling balls\\n', 'juggling fire\\n', 'juggling soccer ball\\n', 'jumping into pool\\n', 'jumpstyle dancing\\n', 'kicking field goal\\n', 'kicking soccer ball\\n', 'kissing\\n', 'kitesurfing\\n', 'knitting\\n', 'krumping\\n', 'laughing\\n', 'laying bricks\\n', 'long jump\\n', 'lunge\\n', 'making a cake\\n', 'making a sandwich\\n', 'making bed\\n', 'making jewelry\\n', 'making pizza\\n', 'making snowman\\n', 'making sushi\\n', 'making tea\\n', 'marching\\n', 'massaging back\\n', 'massaging feet\\n', 'massaging legs\\n', \"massaging person's head\\n\", 'milking cow\\n', 'mopping floor\\n', 'motorcycling\\n', 'moving furniture\\n', 'mowing lawn\\n', 'news anchoring\\n', 'opening bottle\\n', 'opening present\\n', 'paragliding\\n', 'parasailing\\n', 'parkour\\n', 'passing American football (in game)\\n', 'passing American football (not in game)\\n', 'peeling apples\\n', 'peeling potatoes\\n', 'petting animal (not cat)\\n', 'petting cat\\n', 'picking fruit\\n', 'planting trees\\n', 'plastering\\n', 'playing accordion\\n', 'playing badminton\\n', 'playing bagpipes\\n', 'playing basketball\\n', 'playing bass guitar\\n', 'playing cards\\n', 'playing cello\\n', 'playing chess\\n', 'playing clarinet\\n', 'playing controller\\n', 'playing cricket\\n', 'playing cymbals\\n', 'playing didgeridoo\\n', 'playing drums\\n', 'playing flute\\n', 'playing guitar\\n', 'playing harmonica\\n', 'playing harp\\n', 'playing ice hockey\\n', 'playing keyboard\\n', 'playing kickball\\n', 'playing monopoly\\n', 'playing organ\\n', 'playing paintball\\n', 'playing piano\\n', 'playing poker\\n', 'playing recorder\\n', 'playing saxophone\\n', 'playing squash or racquetball\\n', 'playing tennis\\n', 'playing trombone\\n', 'playing trumpet\\n', 'playing ukulele\\n', 'playing violin\\n', 'playing volleyball\\n', 'playing xylophone\\n', 'pole vault\\n', 'presenting weather forecast\\n', 'pull ups\\n', 'pumping fist\\n', 'pumping gas\\n', 'punching bag\\n', 'punching person (boxing)\\n', 'push up\\n', 'pushing car\\n', 'pushing cart\\n', 'pushing wheelchair\\n', 'reading book\\n', 'reading newspaper\\n', 'recording music\\n', 'riding a bike\\n', 'riding camel\\n', 'riding elephant\\n', 'riding mechanical bull\\n', 'riding mountain bike\\n', 'riding mule\\n', 'riding or walking with horse\\n', 'riding scooter\\n', 'riding unicycle\\n', 'ripping paper\\n', 'robot dancing\\n', 'rock climbing\\n', 'rock scissors paper\\n', 'roller skating\\n', 'running on treadmill\\n', 'sailing\\n', 'salsa dancing\\n', 'sanding floor\\n', 'scrambling eggs\\n', 'scuba diving\\n', 'setting table\\n', 'shaking hands\\n', 'shaking head\\n', 'sharpening knives\\n', 'sharpening pencil\\n', 'shaving head\\n', 'shaving legs\\n', 'shearing sheep\\n', 'shining shoes\\n', 'shooting basketball\\n', 'shooting goal (soccer)\\n', 'shot put\\n', 'shoveling snow\\n', 'shredding paper\\n', 'shuffling cards\\n', 'side kick\\n', 'sign language interpreting\\n', 'singing\\n', 'situp\\n', 'skateboarding\\n', 'ski jumping\\n', 'skiing (not slalom or crosscountry)\\n', 'skiing crosscountry\\n', 'skiing slalom\\n', 'skipping rope\\n', 'skydiving\\n', 'slacklining\\n', 'slapping\\n', 'sled dog racing\\n', 'smoking\\n', 'smoking hookah\\n', 'snatch weight lifting\\n', 'sneezing\\n', 'sniffing\\n', 'snorkeling\\n', 'snowboarding\\n', 'snowkiting\\n', 'snowmobiling\\n', 'somersaulting\\n', 'spinning poi\\n', 'spray painting\\n', 'spraying\\n', 'springboard diving\\n', 'squat\\n', 'sticking tongue out\\n', 'stomping grapes\\n', 'stretching arm\\n', 'stretching leg\\n', 'strumming guitar\\n', 'surfing crowd\\n', 'surfing water\\n', 'sweeping floor\\n', 'swimming backstroke\\n', 'swimming breast stroke\\n', 'swimming butterfly stroke\\n', 'swing dancing\\n', 'swinging legs\\n', 'swinging on something\\n', 'sword fighting\\n', 'tai chi\\n', 'taking a shower\\n', 'tango dancing\\n', 'tap dancing\\n', 'tapping guitar\\n', 'tapping pen\\n', 'tasting beer\\n', 'tasting food\\n', 'testifying\\n', 'texting\\n', 'throwing axe\\n', 'throwing ball\\n', 'throwing discus\\n', 'tickling\\n', 'tobogganing\\n', 'tossing coin\\n', 'tossing salad\\n', 'training dog\\n', 'trapezing\\n', 'trimming or shaving beard\\n', 'trimming trees\\n', 'triple jump\\n', 'tying bow tie\\n', 'tying knot (not on a tie)\\n', 'tying tie\\n', 'unboxing\\n', 'unloading truck\\n', 'using computer\\n', 'using remote controller (not gaming)\\n', 'using segway\\n', 'vault\\n', 'waiting in line\\n', 'walking the dog\\n', 'washing dishes\\n', 'washing feet\\n', 'washing hair\\n', 'washing hands\\n', 'water skiing\\n', 'water sliding\\n', 'watering plants\\n', 'waxing back\\n', 'waxing chest\\n', 'waxing eyebrows\\n', 'waxing legs\\n', 'weaving basket\\n', 'welding\\n', 'whistling\\n', 'windsurfing\\n', 'wrapping present\\n', 'wrestling\\n', 'writing\\n', 'yawning\\n', 'yoga\\n', 'zumba\\n']\n"
     ]
    }
   ],
   "source": [
    "label_name_path = '/st-gcn/resource/kinetics_skeleton/label_name.txt'\n",
    "with open(label_name_path) as f:\n",
    "    label_name = f.readlines()\n",
    "    abel_name = [line.rstrip() for line in label_name]\n",
    "print(label_name)"
   ]
  },
  {
   "cell_type": "code",
   "execution_count": null,
   "id": "b1557482-2790-46c4-8d2f-c3378f585c69",
   "metadata": {},
   "outputs": [],
   "source": []
  }
 ],
 "metadata": {
  "kernelspec": {
   "display_name": "Python 3 (ipykernel)",
   "language": "python",
   "name": "python3"
  },
  "language_info": {
   "codemirror_mode": {
    "name": "ipython",
    "version": 3
   },
   "file_extension": ".py",
   "mimetype": "text/x-python",
   "name": "python",
   "nbconvert_exporter": "python",
   "pygments_lexer": "ipython3",
   "version": "3.8.10"
  }
 },
 "nbformat": 4,
 "nbformat_minor": 5
}
